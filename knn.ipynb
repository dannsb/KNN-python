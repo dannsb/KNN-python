{
 "cells": [
  {
   "cell_type": "markdown",
   "metadata": {},
   "source": [
    "## KNN Model Project\n",
    "using iris dataset, we implente KNN evaluation model."
   ]
  },
  {
   "cell_type": "markdown",
   "metadata": {},
   "source": [
    "### Import libs"
   ]
  },
  {
   "cell_type": "code",
   "execution_count": 11,
   "metadata": {},
   "outputs": [],
   "source": [
    "from sklearn.datasets import load_iris,load_wine\n",
    "from sklearn.model_selection import train_test_split\n",
    "from collections import Counter"
   ]
  },
  {
   "cell_type": "markdown",
   "metadata": {},
   "source": [
    "### Load datates"
   ]
  },
  {
   "cell_type": "code",
   "execution_count": 12,
   "metadata": {},
   "outputs": [],
   "source": [
    "dataset = load_iris() # or load_wine()\n",
    "\n",
    "x = dataset.data   # Features\n",
    "y = dataset.target # Target Labels\n",
    "x_train, x_test, y_train, y_test = train_test_split(x, y, test_size=0.2) # 20% test & 80% for train\n"
   ]
  },
  {
   "cell_type": "markdown",
   "metadata": {},
   "source": [
    "### Normalizing data\n",
    "a function that turn array data to number bitween 0 and 1."
   ]
  },
  {
   "cell_type": "code",
   "execution_count": 4,
   "metadata": {},
   "outputs": [],
   "source": [
    "def normalize(array):\n",
    "    maxNumber = 0\n",
    "    minNumber = 0\n",
    "    for i in array:\n",
    "        maxNumber = max(i) if max(i) > maxNumber else maxNumber\n",
    "        minNumber = min(i) if min(i) < minNumber else minNumber\n",
    "    \n",
    "    for i in range(0,len(array)):\n",
    "        for j in range(0,len(array[i])):\n",
    "            array[i][j]= array[i][j] / maxNumber\n",
    "    \n",
    "    return array"
   ]
  },
  {
   "cell_type": "markdown",
   "metadata": {},
   "source": [
    "## Predicting\n"
   ]
  },
  {
   "cell_type": "markdown",
   "metadata": {},
   "source": [
    "### Calculate Distances\n",
    "calculate distances beetween test array data and every train array data"
   ]
  },
  {
   "cell_type": "code",
   "execution_count": 5,
   "metadata": {},
   "outputs": [],
   "source": [
    "def calc_distance(array1, array2):\n",
    "    tempDistance = 0\n",
    "    for i in range(len(array1)):\n",
    "        tempDistance += (array1[i] - array2[i]) ** 2\n",
    "    distance = round(tempDistance ** 0.5,3)\n",
    "    return distance"
   ]
  },
  {
   "cell_type": "markdown",
   "metadata": {},
   "source": [
    "### Nearest Labels & Most Comman Label"
   ]
  },
  {
   "cell_type": "code",
   "execution_count": 6,
   "metadata": {},
   "outputs": [],
   "source": [
    "def nearest_labels(k,distance_list):\n",
    "    k_nearest_labels = []\n",
    "    for i in range(k):\n",
    "        distance, label = distance_list[i]\n",
    "        k_nearest_labels.append(int(label))\n",
    "    \n",
    "    return k_nearest_labels\n",
    "\n",
    "def most_comman_label(labels):\n",
    "    counts = Counter(labels) # return Counter({label: count})\n",
    "    most_common_label = counts.most_common(1)\n",
    "    label = int(most_common_label[0][0])\n",
    "    return label\n",
    "\n",
    "# for test most_comman_label func \n",
    "# commonLabel = most_comman_label([1,3,3])\n",
    "# print(commonLabel)"
   ]
  },
  {
   "cell_type": "markdown",
   "metadata": {},
   "source": [
    "### KNN Model Predict\n",
    "predicting labels using knn model."
   ]
  },
  {
   "cell_type": "code",
   "execution_count": 7,
   "metadata": {},
   "outputs": [],
   "source": [
    "def knn_predict(x_train, y_train, x_test, k=1):\n",
    "    y_pred = []\n",
    "    for i in range(len(x_test)):\n",
    "        distance_list = []\n",
    "        for j in range(len(x_train)):\n",
    "            distance = calc_distance(x_test[i], x_train[j])\n",
    "            distance_list.append((distance, y_train[j])) \n",
    "        distance_list.sort(key=lambda x: x[0]) \n",
    "        k_nearest_labels = nearest_labels(k,distance_list)\n",
    "        most_common_label = most_comman_label(k_nearest_labels)\n",
    "        y_pred.append(most_common_label)\n",
    "    \n",
    "    return y_pred"
   ]
  },
  {
   "cell_type": "markdown",
   "metadata": {},
   "source": [
    "### Accuracy Score"
   ]
  },
  {
   "cell_type": "code",
   "execution_count": 8,
   "metadata": {},
   "outputs": [],
   "source": [
    "def accuracy_score(y_true, y_pred):\n",
    "    correct_predictions = 0\n",
    "    for true, pred in zip(y_true, y_pred):\n",
    "        if true == pred:\n",
    "            correct_predictions += 1\n",
    "    \n",
    "    accuracy = correct_predictions / len(y_true)\n",
    "    \n",
    "    return accuracy"
   ]
  },
  {
   "cell_type": "markdown",
   "metadata": {},
   "source": [
    "### Log the Accuracy score and Labels"
   ]
  },
  {
   "cell_type": "code",
   "execution_count": 10,
   "metadata": {},
   "outputs": [
    {
     "data": {
      "text/plain": [
       "0.9333333333333333"
      ]
     },
     "execution_count": 10,
     "metadata": {},
     "output_type": "execute_result"
    }
   ],
   "source": [
    "normalized_x_train = normalize(array=x_train)\n",
    "normalized_x_test = normalize(array=x_test)\n",
    "\n",
    "y_pred = knn_predict(normalized_x_train, y_train, normalized_x_test)\n",
    "accuracy = accuracy_score(y_true=y_test, y_pred=y_pred)\n",
    "accuracy"
   ]
  }
 ],
 "metadata": {
  "kernelspec": {
   "display_name": ".venv",
   "language": "python",
   "name": "python3"
  },
  "language_info": {
   "codemirror_mode": {
    "name": "ipython",
    "version": 3
   },
   "file_extension": ".py",
   "mimetype": "text/x-python",
   "name": "python",
   "nbconvert_exporter": "python",
   "pygments_lexer": "ipython3",
   "version": "3.12.3"
  }
 },
 "nbformat": 4,
 "nbformat_minor": 2
}
